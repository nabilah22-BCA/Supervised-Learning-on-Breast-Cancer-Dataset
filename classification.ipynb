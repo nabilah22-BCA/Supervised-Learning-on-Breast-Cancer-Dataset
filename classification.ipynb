{
 "cells": [
  {
   "cell_type": "code",
   "execution_count": 5,
   "id": "a3531cb7-7f57-44b5-b7a3-6bc550bd36e5",
   "metadata": {},
   "outputs": [],
   "source": [
    "import numpy as np\n",
    "import pandas as pd\n",
    "from sklearn.datasets import load_breast_cancer\n",
    "from sklearn.model_selection import train_test_split\n",
    "from sklearn.preprocessing import StandardScaler\n",
    "from sklearn.linear_model import LogisticRegression\n",
    "from sklearn.tree import DecisionTreeClassifier\n",
    "from sklearn.ensemble import RandomForestClassifier\n",
    "from sklearn.svm import SVC\n",
    "from sklearn.neighbors import KNeighborsClassifier\n",
    "from sklearn.metrics import accuracy_score, classification_report\n"
   ]
  },
  {
   "cell_type": "code",
   "execution_count": 13,
   "id": "92657c57-a84c-4cf2-9bd8-3bd3178ccd74",
   "metadata": {},
   "outputs": [
    {
     "ename": "NameError",
     "evalue": "name 'x' is not defined",
     "output_type": "error",
     "traceback": [
      "\u001b[1;31m---------------------------------------------------------------------------\u001b[0m",
      "\u001b[1;31mNameError\u001b[0m                                 Traceback (most recent call last)",
      "Cell \u001b[1;32mIn[13], line 4\u001b[0m\n\u001b[0;32m      2\u001b[0m X \u001b[38;5;241m=\u001b[39m pd\u001b[38;5;241m.\u001b[39mDataFrame(data\u001b[38;5;241m.\u001b[39mdata, columns\u001b[38;5;241m=\u001b[39mdata\u001b[38;5;241m.\u001b[39mfeature_names)\n\u001b[0;32m      3\u001b[0m y \u001b[38;5;241m=\u001b[39m data\u001b[38;5;241m.\u001b[39mtarget\n\u001b[1;32m----> 4\u001b[0m x\u001b[38;5;241m.\u001b[39mshow()\n\u001b[0;32m      5\u001b[0m y\u001b[38;5;241m.\u001b[39mshow()\n",
      "\u001b[1;31mNameError\u001b[0m: name 'x' is not defined"
     ]
    }
   ],
   "source": [
    "data = load_breast_cancer()\n",
    "X = pd.DataFrame(data.data, columns=data.feature_names)\n",
    "y = data.target\n"
   ]
  },
  {
   "cell_type": "code",
   "execution_count": 15,
   "id": "702f5873-e850-42c9-989e-c3ef5b8d84d7",
   "metadata": {},
   "outputs": [
    {
     "name": "stdout",
     "output_type": "stream",
     "text": [
      "Missing values in dataset: 0\n"
     ]
    }
   ],
   "source": [
    "print(\"Missing values in dataset:\", X.isnull().sum().sum())"
   ]
  },
  {
   "cell_type": "code",
   "execution_count": 17,
   "id": "56db410f-d2d7-46e1-aa01-1ffcee5d0636",
   "metadata": {},
   "outputs": [],
   "source": [
    "scaler = StandardScaler()\n",
    "X_scaled = scaler.fit_transform(X)"
   ]
  },
  {
   "cell_type": "code",
   "execution_count": 19,
   "id": "7703fbf0-0684-4bd0-a93c-0a158fae606d",
   "metadata": {},
   "outputs": [],
   "source": [
    "X_train, X_test, y_train, y_test = train_test_split(X_scaled, y, test_size=0.2, random_state=42)\n"
   ]
  },
  {
   "cell_type": "code",
   "execution_count": 21,
   "id": "6ad14a2a-6d10-47c6-a4ed-0a232fe8b463",
   "metadata": {},
   "outputs": [],
   "source": [
    "# Logistic Regression\n",
    "log_reg = LogisticRegression(random_state=42)\n",
    "log_reg.fit(X_train, y_train)\n",
    "y_pred_log_reg = log_reg.predict(X_test)"
   ]
  },
  {
   "cell_type": "code",
   "execution_count": 23,
   "id": "a8d0b4d2-ff52-413d-b6cb-509654cc8585",
   "metadata": {},
   "outputs": [],
   "source": [
    "# Decision Tree Classifier\n",
    "dt = DecisionTreeClassifier(random_state=42)\n",
    "dt.fit(X_train, y_train)\n",
    "y_pred_dt = dt.predict(X_test)\n"
   ]
  },
  {
   "cell_type": "code",
   "execution_count": 25,
   "id": "d6209523-92ff-4c42-8b99-776cf99fc50b",
   "metadata": {},
   "outputs": [],
   "source": [
    "# Random Forest Classifier\n",
    "rf = RandomForestClassifier(random_state=42, n_estimators=100)\n",
    "rf.fit(X_train, y_train)\n",
    "y_pred_rf = rf.predict(X_test)\n"
   ]
  },
  {
   "cell_type": "code",
   "execution_count": 27,
   "id": "3b317cb9-a8aa-453d-b572-025360600821",
   "metadata": {},
   "outputs": [],
   "source": [
    "# Support Vector Machine\n",
    "svm = SVC(random_state=42)\n",
    "svm.fit(X_train, y_train)\n",
    "y_pred_svm = svm.predict(X_test)"
   ]
  },
  {
   "cell_type": "code",
   "execution_count": 29,
   "id": "71515c28-ba27-48a9-8385-0b4efcfaeda1",
   "metadata": {},
   "outputs": [],
   "source": [
    "# k-Nearest Neighbors\n",
    "knn = KNeighborsClassifier()\n",
    "knn.fit(X_train, y_train)\n",
    "y_pred_knn = knn.predict(X_test)\n"
   ]
  },
  {
   "cell_type": "code",
   "execution_count": 31,
   "id": "12e3797c-6b12-4a92-8810-75ecd375ba8d",
   "metadata": {},
   "outputs": [],
   "source": [
    "accuracy_scores = {\n",
    "    \"Logistic Regression\": accuracy_score(y_test, y_pred_log_reg),\n",
    "    \"Decision Tree\": accuracy_score(y_test, y_pred_dt),\n",
    "    \"Random Forest\": accuracy_score(y_test, y_pred_rf),\n",
    "    \"Support Vector Machine\": accuracy_score(y_test, y_pred_svm),\n",
    "    \"k-Nearest Neighbors\": accuracy_score(y_test, y_pred_knn),\n",
    "}\n"
   ]
  },
  {
   "cell_type": "code",
   "execution_count": 33,
   "id": "9c7a772a-22b4-4487-9818-7e800f846639",
   "metadata": {},
   "outputs": [],
   "source": [
    "classification_reports = {\n",
    "    \"Logistic Regression\": classification_report(y_test, y_pred_log_reg),\n",
    "    \"Decision Tree\": classification_report(y_test, y_pred_dt),\n",
    "    \"Random Forest\": classification_report(y_test, y_pred_rf),\n",
    "    \"Support Vector Machine\": classification_report(y_test, y_pred_svm),\n",
    "    \"k-Nearest Neighbors\": classification_report(y_test, y_pred_knn),\n",
    "}"
   ]
  },
  {
   "cell_type": "code",
   "execution_count": 35,
   "id": "3fb9acf8-47c7-4d1c-b1e3-17d93cbcf164",
   "metadata": {},
   "outputs": [
    {
     "name": "stdout",
     "output_type": "stream",
     "text": [
      "\n",
      "Model Comparison:\n",
      "\n",
      "Logistic Regression: 0.9737\n",
      "Decision Tree: 0.9474\n",
      "Random Forest: 0.9649\n",
      "Support Vector Machine: 0.9737\n",
      "k-Nearest Neighbors: 0.9474\n",
      "\n",
      "Best Model: Logistic Regression\n",
      "Worst Model: Decision Tree\n",
      "\n",
      "Classification Report for Logistic Regression:\n",
      "              precision    recall  f1-score   support\n",
      "\n",
      "           0       0.98      0.95      0.96        43\n",
      "           1       0.97      0.99      0.98        71\n",
      "\n",
      "    accuracy                           0.97       114\n",
      "   macro avg       0.97      0.97      0.97       114\n",
      "weighted avg       0.97      0.97      0.97       114\n",
      "\n",
      "\n",
      "Classification Report for Decision Tree:\n",
      "              precision    recall  f1-score   support\n",
      "\n",
      "           0       0.93      0.93      0.93        43\n",
      "           1       0.96      0.96      0.96        71\n",
      "\n",
      "    accuracy                           0.95       114\n",
      "   macro avg       0.94      0.94      0.94       114\n",
      "weighted avg       0.95      0.95      0.95       114\n",
      "\n",
      "\n",
      "Classification Report for Random Forest:\n",
      "              precision    recall  f1-score   support\n",
      "\n",
      "           0       0.98      0.93      0.95        43\n",
      "           1       0.96      0.99      0.97        71\n",
      "\n",
      "    accuracy                           0.96       114\n",
      "   macro avg       0.97      0.96      0.96       114\n",
      "weighted avg       0.97      0.96      0.96       114\n",
      "\n",
      "\n",
      "Classification Report for Support Vector Machine:\n",
      "              precision    recall  f1-score   support\n",
      "\n",
      "           0       0.98      0.95      0.96        43\n",
      "           1       0.97      0.99      0.98        71\n",
      "\n",
      "    accuracy                           0.97       114\n",
      "   macro avg       0.97      0.97      0.97       114\n",
      "weighted avg       0.97      0.97      0.97       114\n",
      "\n",
      "\n",
      "Classification Report for k-Nearest Neighbors:\n",
      "              precision    recall  f1-score   support\n",
      "\n",
      "           0       0.93      0.93      0.93        43\n",
      "           1       0.96      0.96      0.96        71\n",
      "\n",
      "    accuracy                           0.95       114\n",
      "   macro avg       0.94      0.94      0.94       114\n",
      "weighted avg       0.95      0.95      0.95       114\n",
      "\n"
     ]
    }
   ],
   "source": [
    "print(\"\\nModel Comparison:\\n\")\n",
    "for model, accuracy in accuracy_scores.items():\n",
    "    print(f\"{model}: {accuracy:.4f}\")\n",
    "\n",
    "# Finding the best and worst models\n",
    "best_model = max(accuracy_scores, key=accuracy_scores.get)\n",
    "worst_model = min(accuracy_scores, key=accuracy_scores.get)\n",
    "\n",
    "print(f\"\\nBest Model: {best_model}\")\n",
    "print(f\"Worst Model: {worst_model}\")\n",
    "\n",
    "# Detailed Reports\n",
    "for model, report in classification_reports.items():\n",
    "    print(f\"\\nClassification Report for {model}:\\n{report}\")\n"
   ]
  },
  {
   "cell_type": "code",
   "execution_count": null,
   "id": "efac25a2-6916-4983-a540-8853f942c3aa",
   "metadata": {},
   "outputs": [],
   "source": []
  }
 ],
 "metadata": {
  "kernelspec": {
   "display_name": "Python 3 (ipykernel)",
   "language": "python",
   "name": "python3"
  },
  "language_info": {
   "codemirror_mode": {
    "name": "ipython",
    "version": 3
   },
   "file_extension": ".py",
   "mimetype": "text/x-python",
   "name": "python",
   "nbconvert_exporter": "python",
   "pygments_lexer": "ipython3",
   "version": "3.12.4"
  }
 },
 "nbformat": 4,
 "nbformat_minor": 5
}
